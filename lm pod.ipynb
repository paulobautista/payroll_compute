{
 "cells": [
  {
   "cell_type": "code",
   "execution_count": 134,
   "metadata": {},
   "outputs": [],
   "source": [
    "import pandas as pd"
   ]
  },
  {
   "cell_type": "code",
   "execution_count": 135,
   "metadata": {},
   "outputs": [],
   "source": [
    "df = pd.read_csv('sample_route_data.csv')"
   ]
  },
  {
   "cell_type": "code",
   "execution_count": 136,
   "metadata": {},
   "outputs": [],
   "source": [
    "ps = pd.read_csv('sample_payscheme.csv')"
   ]
  },
  {
   "cell_type": "code",
   "execution_count": 137,
   "metadata": {},
   "outputs": [],
   "source": [
    "def get_scheme_rate(row):\n",
    "    hub = ps.hub_id == row.hub_id\n",
    "    driver_type = ps.driver_type ==row.driver_type\n",
    "    min_parcel = ps.min_parcel < row.parcels_delivered \n",
    "    rate_card =  tuple(ps.loc[hub & driver_type & min_parcel].agg({'per_parcel_rate':'max','daily_min_wage':'max','fixed_component':'max','fixed_incentive_component':'max'}).fillna(0))\n",
    "    revenue = (rate_card[0] * row.parcels_delivered) + (sum(rate_card[1:]))\n",
    "    return revenue,rate_card"
   ]
  },
  {
   "cell_type": "code",
   "execution_count": 138,
   "metadata": {},
   "outputs": [],
   "source": [
    "df['result'] = df.apply(get_scheme_rate,axis=1)\n",
    "df['delivery_pay']  = [x[0] for x in df.result]"
   ]
  },
  {
   "cell_type": "code",
   "execution_count": 139,
   "metadata": {},
   "outputs": [],
   "source": [
    "df.groupby(['rider_id','rider_name','hub_id','hub_name','driver_type']).agg({'parcels_delivered':'sum','route_date':'nunique','delivery_pay':'sum'}).reset_index().to_csv('rider_level.csv',index=False)"
   ]
  },
  {
   "cell_type": "code",
   "execution_count": 130,
   "metadata": {},
   "outputs": [],
   "source": []
  },
  {
   "cell_type": "code",
   "execution_count": null,
   "metadata": {},
   "outputs": [],
   "source": []
  }
 ],
 "metadata": {
  "kernelspec": {
   "display_name": "Python 3",
   "language": "python",
   "name": "python3"
  },
  "language_info": {
   "codemirror_mode": {
    "name": "ipython",
    "version": 3
   },
   "file_extension": ".py",
   "mimetype": "text/x-python",
   "name": "python",
   "nbconvert_exporter": "python",
   "pygments_lexer": "ipython3",
   "version": "3.7.4"
  }
 },
 "nbformat": 4,
 "nbformat_minor": 2
}
